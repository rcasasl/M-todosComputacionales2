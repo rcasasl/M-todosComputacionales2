{
  "cells": [
    {
      "cell_type": "markdown",
      "metadata": {
        "id": "0Z8Dn_z6Mb9b"
      },
      "source": [
        "# Taller 4\n",
        "\n",
        "## Métodos Computacionales 2\n",
        "\n",
        "Instrucciones: Suba el jupyter notebook **.ipynb** en la actividad de bloque neon. El archivo debe ser nombrado ApellidoNombreApellidoNombre_Taller4.ipynb, con su primer Apellido y Nombre. **El archivo debe poder correr en el binder del curso o en google colab**\n",
        "\n",
        "Si un ejercicio demora **más de 10 segundos** en correr se considerará **incorrecto**.\n",
        "\n",
        "La simulación no debería demorar más de **60 segundos** en el github del curso o en google colab.\n",
        "\n",
        "No modifique el cuaderno, ni los modos de lectura de los archivos.\n",
        "\n",
        "**Entrega: Sábado 30 de Septiembre 11:59 pm**"
      ]
    },
    {
      "cell_type": "markdown",
      "metadata": {
        "id": "VvtNBbxJ0n7a"
      },
      "source": [
        "## Librerias"
      ]
    },
    {
      "cell_type": "code",
      "execution_count": 37,
      "metadata": {
        "id": "mmgcGeXk0pPA"
      },
      "outputs": [],
      "source": [
        "import time\n",
        "import numpy as np\n",
        "\n",
        "import matplotlib.pyplot as plt\n",
        "from matplotlib import animation\n",
        "plt.style.use('dark_background')"
      ]
    },
    {
      "cell_type": "code",
      "execution_count": 38,
      "metadata": {
        "id": "0dwmjZUoDvLX"
      },
      "outputs": [],
      "source": [
        "from matplotlib import rc\n",
        "rc(\"animation\", html = \"jshtml\")"
      ]
    },
    {
      "cell_type": "markdown",
      "metadata": {
        "id": "iBApbCINk-Rx"
      },
      "source": [
        "## Problema 1 (2/5) puntos\n",
        "\n",
        "Dada la ecuación de onda bidimensional,\n",
        "\n",
        "$$ \\frac{\\partial^2 u}{\\partial t^2} =\n",
        "{c^2} \\left(\\frac{\\partial^2 u}{\\partial x^2} + \\frac{\\partial^2 u}{\\partial y^2} \\right)$$\n",
        "\n",
        "Demuestre que la solución de la ecuación de onda bidimensional con diferencias finitas para extremos fijos está dada por,\n",
        "\n",
        "$$\n",
        "u^1_{i, j} = \\frac{a}{2}u^0_{i, j} + V^0_{i, j}\\Delta t + \\frac{r_x}{2}(u^0_{i+1, j} + u^0_{i-1, j}) + \\frac{r_y}{2}(u^0_{i, j+1}+u^0_{i, j-1})\n",
        "$$\n",
        "\n",
        "$$\n",
        "u^{n+1}_{i, j} = au^n_{i, j} - u_{i, j}^{n-1} + r_x(u^n_{i+1, j} + u^n_{i-1, j}) + r_y(u^n_{i, j+1}+u^n_{i, j-1})\n",
        "$$\n",
        "\n",
        "Donde,\n",
        "\n",
        "$$\n",
        "r_x = (\\Delta t)^2c^2/(\\Delta x)^2, \\quad r_y = (\\Delta t)^2c^2/(\\Delta y)^2\n",
        "$$\n",
        "\n",
        "$$\n",
        "a = 2(1 - r_x - r_y)\n",
        "$$\n",
        "\n",
        "Su demonstración aquí,\n",
        "\n",
        ".\n",
        "\n",
        "\n",
        ".\n",
        "\n",
        "\n",
        ".\n",
        "\n",
        "\n",
        ".\n",
        "\n",
        "\n",
        ".\n",
        "\n",
        "\n",
        "\n",
        "\n"
      ]
    },
    {
      "cell_type": "markdown",
      "metadata": {
        "id": "6z4rQxNoQ8F4"
      },
      "source": [
        "b) (No se califica) ¿Qué cambia en la ecuación en el caso en que la onda se encuentre en dos medios diferentes?\n",
        "\n",
        "Su texto aqui\n",
        "\n",
        ".\n",
        "\n",
        ".\n",
        "\n",
        ".\n",
        "\n",
        "."
      ]
    },
    {
      "cell_type": "markdown",
      "metadata": {
        "id": "MELZuUDHuP71"
      },
      "source": [
        "## Problema 2 (3/5) Puntos\n",
        "\n",
        "Solucionar la ecuación de onda bidimensional con extremos fijos en cero la cual se encuentra entre dos medios cuyas velocidades de propagación son $c_1$ y $c_2$ para la posición inicial $p(x,y)$,\n",
        "\n",
        "$$p(x,y) = \\frac{1}{\\sqrt{\\sigma}}e^{(-{\\frac{(x-0.25)^2+(y-0.5)^2}{\\sigma^2}})} + \\frac{1}{\\sqrt{\\sigma}}e^{(-{\\frac{(x-0.75)^2+(y-0.5)^2}{\\sigma^2}})}$$\n",
        "\n",
        "con $\\sigma = 0.05$, en el dominio $x \\in [0, 1]$,  $y \\in [0, 1]$ y velocidad inicial de cada nodo igual a cero para $t=0$, la frontera entre los dos medios se encuentra en la posición $x = 0.5$. Use los valores de la tabla. Realice una animación 3D, para que la simulación no demore tanto realice la simulación con solo las imagenes de cada $50*dt$. Use el siguiente [notebook](https://github.com/diegour1/MetodosComputacionales2/blob/main/Notebooks/11%20-%20ecuacion_onda_1D.ipynb) como guía.\n",
        "\n",
        "**Tabla:**\n",
        "\n",
        "|  |                                        |\n",
        "|-----------------------|----------------------------------------|\n",
        "| $$c_1$$                 |                                $$1.5$$ |\n",
        "| $$c_2$$                 |                                $$2.5$$ |\n",
        "| $$dx$$                |                               $$0.05$$ |\n",
        "| $$dy$$                |                               $$0.05$$ |\n",
        "| $$t_{total}$$           |                                  $$0.5$$ |\n",
        "| $$dt$$                | $$\\frac{1}{10c_2}\\frac{dx^2dy^2}{dx^2+dy^2}$$ |"
      ]
    },
    {
      "cell_type": "markdown",
      "metadata": {
        "id": "R3kXKLjxP4ks"
      },
      "source": [
        "En la calificación el notebook se correra en Google Colab, de cualquier forma adjunte la animación en un video de youtube público, debe obtener un video como el que se muestra,\n",
        "\n",
        "Cambie este link por su video de youtube,\n",
        "\n",
        "Espacio para el video de youtube\n",
        "\n",
        "https://www.youtube.com/watch?v=heeGCgfhheY"
      ]
    },
    {
      "cell_type": "code",
      "execution_count": 39,
      "metadata": {
        "colab": {
          "base_uri": "https://localhost:8080/"
        },
        "id": "AsF4aCkdP3x9",
        "outputId": "814bd755-fc8a-4d5f-be21-da1c88cbbb13"
      },
      "outputs": [
        {
          "name": "stdout",
          "output_type": "stream",
          "text": [
            "Tiempo usado en calcular la solución(s): 25.45734977722168\n",
            "x.shape: (11,)  U.shape: (11, 11, 205001)\n"
          ]
        }
      ],
      "source": [
        "## Su codigo aqui\n",
        "dx = 0.05  \n",
        "dy = 0.05\n",
        "L = 0.5\n",
        "t_max = 0.5\n",
        "c1 = 1.5\n",
        "c2 = 2.5\n",
        "\n",
        "# condiciones de frontera \n",
        "l0 = 0\n",
        "lL = 0\n",
        "\n",
        "# condiciones iniciales\n",
        "def pos_ini(x,y):\n",
        "  sig = 0.05\n",
        "  return 1.0/np.sqrt(sig) * np.exp(-((x-0.25)**2 + (y-0.5)**2)/sig**2) + 1.0/np.sqrt(sig) * np.exp(-((x-0.75)**2 + (y-0.5)**2)/sig**2) \n",
        "\n",
        "def vel_ini(x,y):\n",
        "  return np.zeros([len(x),len(y)])\n",
        "\n",
        "def solucion_ecuacion_onda_2D(dx,dy,t_max,L,c1,c2,l0,lL):\n",
        "  \n",
        "  dt = 1/(10*c2) * (dx**2)*(dy**2) / ((dx**2)+(dy*2))\n",
        "  \n",
        "  rx1 = (c1*dt/dx)**2\n",
        "  ry1 = (c1*dt/dy)**2 \n",
        "  #rx2 = (c2*dt/dx)**2\n",
        "  #ry2 = (c2*dt/dy)**2 \n",
        "  \n",
        "  a1 = 2*(1-rx1-ry1)\n",
        "  #a2 = 2*(1-rx2-ry2)\n",
        "  \n",
        "  x = np.linspace(0, L, num = 1+int(np.round((L)/dx)))\n",
        "  y = np.linspace(0, L, num = 1+int(np.round((L)/dy)))\n",
        "  \n",
        "  lt = 1+int(np.round((t_max)/dt))\n",
        "  lx = len(x)\n",
        "  ly = len(y)\n",
        "  \n",
        "  U = np.zeros([lx,ly,lt])\n",
        "  U[:,:,0] = pos_ini(x,y)\n",
        "  v0 = vel_ini(x,y)\n",
        "  U[0,0,:] = l0\n",
        "  U[-1, -1,:] = lL\n",
        "  for n in range(1,lt-1):\n",
        "    for i in range(1,lx-1):\n",
        "      for j in range(1,ly-1):\n",
        "        U[i,j,1] = 0.5*a1*U[i,j,0] + dt*v0[i,j] + 0.5*rx1*(U[i+1,j,0] + U[i-1,j,0]) + 0.5*ry1*(U[i,j+1,0] + U[i,j-1,0])\n",
        "      \n",
        "        U[i,j,n+1] = a1*U[i,j,n] - U[i,j,n-1] + rx1*(U[i+1,j,n] + U[i-1,j,n]) + ry1*(U[i,j+1,n] + U[i,j-1,n])\n",
        "  return x, U\n",
        "\n",
        "start_time = time.time()\n",
        "x, U = solucion_ecuacion_onda_2D(dx,dy,t_max,L,c1,c2,l0,lL)\n",
        "print(\"Tiempo usado en calcular la solución(s):\",time.time() - start_time)\n",
        "\n",
        "print('x.shape:',x.shape, ' U.shape:', U.shape)"
      ]
    },
    {
      "cell_type": "code",
      "execution_count": 40,
      "metadata": {
        "colab": {
          "background_save": true,
          "base_uri": "https://localhost:8080/"
        },
        "id": "Ag-Hg8Xps2Iv",
        "outputId": "64988c6e-b215-42e3-8dc1-260761ecc478"
      },
      "outputs": [
        {
          "name": "stdout",
          "output_type": "stream",
          "text": [
            "Tiempo usado en crear la animación (s): 25.461562871932983\n"
          ]
        }
      ],
      "source": [
        "\n",
        "def update(frame_num, X, Y, U, ax):\n",
        "  ax.clear()\n",
        "  ax.set_zlim([np.min(U),np.max(U)])\n",
        "  ax.plot_surface(X,Y,U[frame_num,:,:],cmap=cm.hot,vmin=0,vmax=np.max(U))\n",
        "\n",
        "def crear_animacion(X,Y,U):\n",
        "  N = U.shape[0]\n",
        "  fig = plt.figure(figsize=(9,6), dpi = 75)\n",
        "  fig.subplots_adjust(left=0, right=1, bottom=0, top=1)\n",
        "  ax = fig.add_subplot(projection='3d')\n",
        "  ax.xaxis.pane.fill = False\n",
        "  ax.yaxis.pane.fill = False\n",
        "  ax.zaxis.pane.fill = False\n",
        "  ani = animation.FuncAnimation(fig, update, N, fargs=(X, Y, U, ax))\n",
        "  return ani\n",
        "  #ani.save('ecuacion_calor_2D.gif',fps=24)\n",
        "  #plt.close(fig)\n",
        "\n",
        "crear_animacion(X,Y,U)\n",
        "print(\"Tiempo usado en crear la animación (s):\", time.time() - start_time)"
      ]
    }
  ],
  "metadata": {
    "colab": {
      "provenance": []
    },
    "kernelspec": {
      "display_name": "Python 3",
      "name": "python3"
    },
    "language_info": {
      "codemirror_mode": {
        "name": "ipython",
        "version": 3
      },
      "file_extension": ".py",
      "mimetype": "text/x-python",
      "name": "python",
      "nbconvert_exporter": "python",
      "pygments_lexer": "ipython3",
      "version": "3.11.5"
    }
  },
  "nbformat": 4,
  "nbformat_minor": 0
}
