{
  "cells": [
    {
      "cell_type": "markdown",
      "metadata": {
        "id": "hd-RSrNgpjOW"
      },
      "source": [
        "**Métodos computacionales 2**\n",
        "\n",
        "**Universidad de los Andes**"
      ]
    },
    {
      "cell_type": "code",
      "execution_count": 10,
      "metadata": {
        "id": "kBKkzp5S2Rsa"
      },
      "outputs": [],
      "source": [
        "import time\n",
        "import numpy as np\n",
        "import scipy as sci\n",
        "import scipy.integrate as integrate\n",
        "\n",
        "import matplotlib.pyplot as plt\n",
        "from matplotlib import animation\n",
        "plt.style.use('dark_background')"
      ]
    },
    {
      "cell_type": "code",
      "execution_count": 11,
      "metadata": {
        "id": "P6aq_z-89BE4"
      },
      "outputs": [],
      "source": [
        "from matplotlib import rc\n",
        "rc(\"animation\", html = \"jshtml\")"
      ]
    },
    {
      "cell_type": "markdown",
      "metadata": {
        "id": "q5cXRq002rjD"
      },
      "source": [
        "## Atracción gravitacional Newtoniana\n",
        "\n",
        "$$\\vec{F_{21}} =m_1 \\frac{d^2\\vec{r}_1}{dt^2}= G \\frac {m_{1}m_{2}} {r_{21}^3}\\vec{r}_{21}$$\n",
        "\n",
        "Esta ecuación de segundo grado se puede separar en dos ecuaciones de primer grado y se puede generalizar para la atracción entre un par de cuerpos $i$ y $j$\n",
        "\n",
        "$$m_i \\frac{d\\vec{v}_i}{dt}= G \\frac {m_{i}m_{j}} {r_{ji}^3}\\vec{r}_{ji}$$\n",
        "\n",
        "$$\\frac{d\\vec{r}_{i}}{dt}=\\vec{v}_i$$\n",
        "\n",
        "Es conveniente definir un par de constantes que permitan realizar todos los calculos respecto a cantidades de referencia como la masa del sol o la velocidad de la tierra en su orbita al rededor del sol. Con lo anterior se evita realizar continuamente calculos con cantidades que se encuentran en ordenes de magnitud muy dispares.\n",
        "\n",
        "$$ \\boxed{\\frac{d\\vec{v}_i}{dt}= K_1 \\frac {m_{j}} {r_{ji}^3}\\vec{r}_{ji}}$$\n",
        "\n",
        "$$\\boxed{\\frac{d\\vec{r}_i}{dt}=K_2\\vec{v}_i}$$\n",
        "\n",
        "\n",
        "La velocidad y posición del centro de masa se puede calcular como\n",
        "\n",
        "$$\\vec{r}_{cm} = \\frac{\\sum^{n}_{i=1}m_i\\vec{r}_i}{\\sum^{n}_{i=1}m_i}$$\n",
        "\n",
        "$$\\vec{v}_{cm} = \\frac{\\sum^{n}_{i=1}m_i\\vec{v}_i}{\\sum^{n}_{i=1}m_i}$$\n",
        "\n"
      ]
    },
    {
      "cell_type": "markdown",
      "metadata": {
        "id": "NO2vQai1nMRr"
      },
      "source": [
        "## Solución numérica del problema de los 3 cuerpos\n",
        "\n",
        "### Parámetros y condiciones iniciales"
      ]
    },
    {
      "cell_type": "code",
      "execution_count": 12,
      "metadata": {
        "id": "eoXCZ0oVFO-6"
      },
      "outputs": [],
      "source": [
        "#Constante de gravitación universal\n",
        "G = 6.67408e-11 # m^3 / (s^2 kg)\n",
        "\n",
        "#cantidades de referencia\n",
        "masa_ref = 1.989e+30 # kg\n",
        "dist_ref = 5.326e+12 # m\n",
        "velo_ref = 30000 # m/s\n",
        "time_ref = 400*365*24*3600 # s\n",
        "\n",
        "#masas\n",
        "m1 = 1.1 \n",
        "m2 = 0.907 \n",
        "m3 = 1.0 \n",
        "\n",
        "#posiciones iniciales\n",
        "r1 = np.array([-0.5, 0.0, 0.0])\n",
        "r2 = np.array([ 0.5, 0.0, 0.0])\n",
        "r3 = np.array([ 0.0, 1.0, 0.0])\n",
        "\n",
        "#velocidades iniciales\n",
        "v1 = np.array([0.2, 0.02, 0.0])\n",
        "v2 = np.array([-0.01, 0,-0.11])\n",
        "v3 = np.array([0.0,-0.05 ,0.1])\n",
        "\n",
        "# num puntos trayectoria\n",
        "puntos = int(10 * time_ref/(365*24*3600)) \n",
        "\n",
        "#parámetros animación\n",
        "fps = 48 # fotogramas por segundo\n",
        "tiempo_anim = int(time_ref/(20*365*24*3600)) # duración de la animación en segundos\n",
        "\n",
        "#constantes\n",
        "K1 = G*time_ref*masa_ref/(dist_ref**2*velo_ref)\n",
        "K2 = velo_ref*time_ref/dist_ref\n"
      ]
    },
    {
      "cell_type": "markdown",
      "metadata": {
        "id": "uPBxu0vIU6GO"
      },
      "source": [
        "### Ecuaciones diferenciales"
      ]
    },
    {
      "cell_type": "code",
      "execution_count": 13,
      "metadata": {
        "id": "5Z3dlA9CLl01"
      },
      "outputs": [],
      "source": [
        "def tres_cuerpos(t, w, G, m1, m2, m3):\n",
        "  r1, r2, r3, v1, v2, v3 = w.reshape(6, 3)\n",
        "  r12 = np.linalg.norm(r2 - r1)\n",
        "  r13 = np.linalg.norm(r3 - r1)\n",
        "  r23 = np.linalg.norm(r3 - r2)\n",
        "  dv1_dt = K1*m2*(r2 - r1)/r12**3 + K1*m3*(r3 - r1)/r13**3\n",
        "  dv2_dt = K1*m2*(r2 - r1)/r12**3 + K1*m3*(r3 - r1)/r13**3\n",
        "  dv3_dt = K1*m2*(r2 - r1)/r12**3 + K1*m3*(r3 - r1)/r13**3\n",
        "  dr1_dt = K2*v1\n",
        "  dr2_dt = K2*v2\n",
        "  dr3_dt = K2*v3\n",
        "  return derivs"
      ]
    },
    {
      "cell_type": "code",
      "execution_count": null,
      "metadata": {
        "id": "mHeYiaz6Ll23"
      },
      "outputs": [],
      "source": []
    },
    {
      "cell_type": "code",
      "execution_count": null,
      "metadata": {
        "id": "QT5JuAyJLl53"
      },
      "outputs": [],
      "source": []
    },
    {
      "cell_type": "code",
      "execution_count": null,
      "metadata": {
        "id": "ajbWIVEwLl9t"
      },
      "outputs": [],
      "source": []
    },
    {
      "cell_type": "code",
      "execution_count": null,
      "metadata": {
        "id": "CtjqmH9wLmBn"
      },
      "outputs": [],
      "source": []
    },
    {
      "cell_type": "code",
      "execution_count": 14,
      "metadata": {
        "id": "1tS8lA6gpMuP"
      },
      "outputs": [],
      "source": [
        "def tres_cuerpos(t, w, G, m1, m2, m3):\n",
        "  r1, r2, r3, v1, v2, v3 = w.reshape(6,3)\n",
        "  r12 = np.linalg.norm(r2 - r1)\n",
        "  r13 = np.linalg.norm(r3 - r1)\n",
        "  r23 = np.linalg.norm(r3 - r2)\n",
        "  dv1_dt = K1*m2*(r2 - r1)/r12**3 + K1*m3*(r3 - r1)/r13**3\n",
        "  dv2_dt = K1*m1*(r1 - r2)/r12**3 + K1*m3*(r3 - r2)/r23**3\n",
        "  dv3_dt = K1*m1*(r1 - r3)/r13**3 + K1*m2*(r2 - r3)/r23**3\n",
        "  dr1_dt = K2*v1\n",
        "  dr2_dt = K2*v2\n",
        "  dr3_dt = K2*v3\n",
        "  derivs = np.concatenate([dr1_dt, dr2_dt, dr3_dt, dv1_dt, dv2_dt, dv3_dt])\n",
        "  return derivs"
      ]
    },
    {
      "cell_type": "markdown",
      "metadata": {
        "id": "CyA-Y0LmU-VA"
      },
      "source": [
        "### Solucionar ecuaciones"
      ]
    },
    {
      "cell_type": "code",
      "execution_count": 15,
      "metadata": {
        "colab": {
          "base_uri": "https://localhost:8080/"
        },
        "id": "al91oIFbp6Pc",
        "outputId": "dc2f0b84-2fa4-4b06-b1ba-4699f137eab8"
      },
      "outputs": [
        {
          "data": {
            "text/plain": [
              "(3, 3, 4000)"
            ]
          },
          "execution_count": 15,
          "metadata": {},
          "output_type": "execute_result"
        }
      ],
      "source": [
        "# transforma las velocidades (o posiciones) al sistema centro de masa\n",
        "def transformar_al_cm(arr_m, arr_v):\n",
        "  v_cm = (arr_m @ arr_v)/np.sum(arr_m)\n",
        "  return arr_v - np.array([v_cm,]*len(arr_v))\n",
        "\n",
        "def solucion_ecuaciones(cond_ini, puntos):\n",
        "  t = np.linspace(0, 1, puntos)\n",
        "  args = [G, m1, m2, m3]\n",
        "  sol = integrate.solve_ivp(tres_cuerpos,[0,1],cond_ini,'DOP853',t,args=args)\n",
        "  s = sol.y\n",
        "  return np.array([s[:3, :], s[3:6, :], s[6:9, :]]) # [body1, body2, body3]\n",
        "\n",
        "v1cm, v2cm, v3cm = transformar_al_cm(np.array([m1,m2,m3]),np.array([v1,v2,v3]))\n",
        "cond_ini = np.array([r1, r2, r3, v1cm, v2cm, v3cm]).flatten()\n",
        "data = solucion_ecuaciones(cond_ini, puntos)\n",
        "data.shape"
      ]
    },
    {
      "cell_type": "markdown",
      "metadata": {
        "id": "Q62R-cNbVGqn"
      },
      "source": [
        "### Mostrar solución"
      ]
    },
    {
      "cell_type": "code",
      "execution_count": 16,
      "metadata": {
        "colab": {
          "base_uri": "https://localhost:8080/"
        },
        "id": "h0cKZWxaTygb",
        "outputId": "75906181-ac6e-48c7-b208-6b40e5c9ff0e"
      },
      "outputs": [
        {
          "name": "stderr",
          "output_type": "stream",
          "text": [
            "/var/folders/0k/fbxvx_0d4kb5fjxprl22wdtm0000gn/T/ipykernel_96303/4047781034.py:18: MatplotlibDeprecationWarning: The dist attribute was deprecated in Matplotlib 3.6 and will be removed two minor releases later.\n",
            "  ax.dist = 7    # controlar la distancia entre los ejes y la camara\n",
            "MovieWriter ffmpeg unavailable; using Pillow instead.\n"
          ]
        }
      ],
      "source": [
        "def update(num_frames, data, elements, paso):\n",
        "  j = num_frames * paso\n",
        "  lines, bodies = elements\n",
        "  bodies._offsets3d = (data[:, 0, j], data[:, 1, j], data[:, 2, j])\n",
        "  for i in range(0, 3):\n",
        "    lines[i].set_data_3d(data[i,:, :j+1])\n",
        "\n",
        "def ajustar_grafica(data):\n",
        "  fig = plt.figure(figsize = (16,9), dpi = 75)\n",
        "  fig.subplots_adjust(left=0, right=1, bottom=0, top=1) #margen\n",
        "  #ax = fig.gca(projection='3d')\n",
        "  ax = fig.add_subplot(projection='3d')\n",
        "  ax.view_init(elev=20, azim=90)    # punto de vista\n",
        "  ax.set_xlim3d([np.min(data[:,0,:]), np.max(data[:,0,:])])\n",
        "  ax.set_ylim3d([np.min(data[:,1,:]), np.max(data[:,1,:])])\n",
        "  ax.set_zlim3d([np.min(data[:,2,:]), np.max(data[:,2,:])])\n",
        "  ax._axis3don = False    # ocultar ejes\n",
        "  ax.dist = 7    # controlar la distancia entre los ejes y la camara\n",
        "  return fig, ax\n",
        "\n",
        "def inicializar_elementos_graficos(d, ax):\n",
        "  line1, = ax.plot(d[0,0,:1],d[0,1,:1],d[0,2,:1],color='#ff3030')\n",
        "  line2, = ax.plot(d[1,0,:1],d[1,1,:1],d[1,2,:1],color='#24ff24')\n",
        "  line3, = ax.plot(d[2,0,:1],d[2,1,:1],d[2,2,:1],color='#1f75ff')\n",
        "  bodies = ax.scatter(d[:,0,0],d[:,1,0],d[:,2,0],s=200,c='y',alpha=1)\n",
        "  return [[line1, line2, line3],bodies]\n",
        "\n",
        "def crear_animacion(data,time,fps,name):\n",
        "  N = time*fps\n",
        "  paso = int(np.floor(data.shape[2] / N))\n",
        "  fig, ax = ajustar_grafica(data)\n",
        "  elements = inicializar_elementos_graficos(data, ax)\n",
        "  ani = animation.FuncAnimation(fig, update, N, fargs=(data,elements,paso))\n",
        "  # return ani\n",
        "  ani.save(name,fps=fps)\n",
        "  plt.close(fig)\n",
        "\n",
        "start_time = time.time()\n",
        "crear_animacion(data,tiempo_anim,fps,'3cuerpos.gif')\n",
        "#print(\"Tiempo usado en crear la animación (s):\",time.time() - start_time)"
      ]
    },
    {
      "cell_type": "code",
      "execution_count": 17,
      "metadata": {
        "id": "ESH4TA45NduS"
      },
      "outputs": [
        {
          "name": "stdout",
          "output_type": "stream",
          "text": [
            "Tiempo usado en crear la animación (s): 20.595019102096558\n"
          ]
        }
      ],
      "source": [
        "print(\"Tiempo usado en crear la animación (s):\",time.time() - start_time)"
      ]
    },
    {
      "cell_type": "code",
      "execution_count": 18,
      "metadata": {
        "colab": {
          "background_save": true
        },
        "id": "pXiNnMMzlsG7",
        "outputId": "2846cdaf-69e1-4cd5-d7a3-2439c93ef15f"
      },
      "outputs": [
        {
          "ename": "FileNotFoundError",
          "evalue": "[Errno 2] No such file or directory: '3cuerpos.mp4'",
          "output_type": "error",
          "traceback": [
            "\u001b[0;31m---------------------------------------------------------------------------\u001b[0m",
            "\u001b[0;31mFileNotFoundError\u001b[0m                         Traceback (most recent call last)",
            "Cell \u001b[0;32mIn[18], line 6\u001b[0m\n\u001b[1;32m      3\u001b[0m \u001b[39mfrom\u001b[39;00m \u001b[39mbase64\u001b[39;00m \u001b[39mimport\u001b[39;00m b64encode\n\u001b[1;32m      5\u001b[0m name \u001b[39m=\u001b[39m \u001b[39m'\u001b[39m\u001b[39m3cuerpos.mp4\u001b[39m\u001b[39m'\u001b[39m\n\u001b[0;32m----> 6\u001b[0m mp4 \u001b[39m=\u001b[39m \u001b[39mopen\u001b[39;49m(name,\u001b[39m'\u001b[39;49m\u001b[39mrb\u001b[39;49m\u001b[39m'\u001b[39;49m)\u001b[39m.\u001b[39mread()\n\u001b[1;32m      7\u001b[0m data_url \u001b[39m=\u001b[39m \u001b[39m\"\u001b[39m\u001b[39mdata:video/mp4;base64,\u001b[39m\u001b[39m\"\u001b[39m \u001b[39m+\u001b[39m b64encode(mp4)\u001b[39m.\u001b[39mdecode()\n\u001b[1;32m      8\u001b[0m HTML(\u001b[39m\"\"\"\u001b[39m\n\u001b[1;32m      9\u001b[0m \u001b[39m<video width=800 controls>\u001b[39m\n\u001b[1;32m     10\u001b[0m \u001b[39m      <source src=\u001b[39m\u001b[39m\"\u001b[39m\u001b[39m%s\u001b[39;00m\u001b[39m\"\u001b[39m\u001b[39m type=\u001b[39m\u001b[39m\"\u001b[39m\u001b[39mvideo/mp4\u001b[39m\u001b[39m\"\u001b[39m\u001b[39m>\u001b[39m\n\u001b[1;32m     11\u001b[0m \u001b[39m</video>\u001b[39m\n\u001b[1;32m     12\u001b[0m \u001b[39m\"\"\"\u001b[39m \u001b[39m%\u001b[39m data_url)\n",
            "File \u001b[0;32m~/Library/Python/3.11/lib/python/site-packages/IPython/core/interactiveshell.py:284\u001b[0m, in \u001b[0;36m_modified_open\u001b[0;34m(file, *args, **kwargs)\u001b[0m\n\u001b[1;32m    277\u001b[0m \u001b[39mif\u001b[39;00m file \u001b[39min\u001b[39;00m {\u001b[39m0\u001b[39m, \u001b[39m1\u001b[39m, \u001b[39m2\u001b[39m}:\n\u001b[1;32m    278\u001b[0m     \u001b[39mraise\u001b[39;00m \u001b[39mValueError\u001b[39;00m(\n\u001b[1;32m    279\u001b[0m         \u001b[39mf\u001b[39m\u001b[39m\"\u001b[39m\u001b[39mIPython won\u001b[39m\u001b[39m'\u001b[39m\u001b[39mt let you open fd=\u001b[39m\u001b[39m{\u001b[39;00mfile\u001b[39m}\u001b[39;00m\u001b[39m by default \u001b[39m\u001b[39m\"\u001b[39m\n\u001b[1;32m    280\u001b[0m         \u001b[39m\"\u001b[39m\u001b[39mas it is likely to crash IPython. If you know what you are doing, \u001b[39m\u001b[39m\"\u001b[39m\n\u001b[1;32m    281\u001b[0m         \u001b[39m\"\u001b[39m\u001b[39myou can use builtins\u001b[39m\u001b[39m'\u001b[39m\u001b[39m open.\u001b[39m\u001b[39m\"\u001b[39m\n\u001b[1;32m    282\u001b[0m     )\n\u001b[0;32m--> 284\u001b[0m \u001b[39mreturn\u001b[39;00m io_open(file, \u001b[39m*\u001b[39;49margs, \u001b[39m*\u001b[39;49m\u001b[39m*\u001b[39;49mkwargs)\n",
            "\u001b[0;31mFileNotFoundError\u001b[0m: [Errno 2] No such file or directory: '3cuerpos.mp4'"
          ]
        }
      ],
      "source": [
        "# Mostrar video\n",
        "from IPython.display import HTML\n",
        "from base64 import b64encode\n",
        "\n",
        "name = '3cuerpos.mp4'\n",
        "mp4 = open(name,'rb').read()\n",
        "data_url = \"data:video/mp4;base64,\" + b64encode(mp4).decode()\n",
        "HTML(\"\"\"\n",
        "<video width=800 controls>\n",
        "      <source src=\"%s\" type=\"video/mp4\">\n",
        "</video>\n",
        "\"\"\" % data_url)"
      ]
    },
    {
      "cell_type": "markdown",
      "metadata": {
        "id": "yqa0vQcbvp8a"
      },
      "source": [
        "**Referencias**\n",
        "\n",
        "Profesores: Diego Alberto Castro, Metodos Computacionales Uniandes"
      ]
    }
  ],
  "metadata": {
    "colab": {
      "provenance": []
    },
    "kernelspec": {
      "display_name": "Python 3",
      "language": "python",
      "name": "python3"
    },
    "language_info": {
      "codemirror_mode": {
        "name": "ipython",
        "version": 3
      },
      "file_extension": ".py",
      "mimetype": "text/x-python",
      "name": "python",
      "nbconvert_exporter": "python",
      "pygments_lexer": "ipython3",
      "version": "3.11.5"
    }
  },
  "nbformat": 4,
  "nbformat_minor": 0
}
