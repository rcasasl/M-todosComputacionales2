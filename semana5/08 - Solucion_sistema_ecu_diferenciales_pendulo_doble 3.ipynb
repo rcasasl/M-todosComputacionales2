{
  "cells": [
    {
      "cell_type": "markdown",
      "metadata": {
        "id": "hd-RSrNgpjOW"
      },
      "source": [
        "**Métodos computacionales 2**\n",
        "\n",
        "**Universidad de los Andes**\n"
      ]
    },
    {
      "cell_type": "code",
      "execution_count": 1,
      "metadata": {
        "id": "kBKkzp5S2Rsa"
      },
      "outputs": [],
      "source": [
        "import time\n",
        "import numpy as np\n",
        "import scipy as sci\n",
        "import scipy.integrate as integrate\n",
        "\n",
        "import matplotlib.pyplot as plt\n",
        "from matplotlib import animation\n",
        "plt.style.use('dark_background')"
      ]
    },
    {
      "cell_type": "code",
      "execution_count": 2,
      "metadata": {
        "id": "sLIltMGk4I-V"
      },
      "outputs": [],
      "source": [
        "from matplotlib import rc\n",
        "rc(\"animation\", html = \"jshtml\")"
      ]
    },
    {
      "cell_type": "markdown",
      "metadata": {
        "id": "kXy2lNfT780W"
      },
      "source": [
        "## Pendulo doble\n",
        "\n",
        "![double-pendulum2.png](data:image/png;base64,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)"
      ]
    },
    {
      "cell_type": "markdown",
      "metadata": {
        "id": "q5cXRq002rjD"
      },
      "source": [
        "De acuerdo al diagrama anterior, la posición de la masa $m_1$ y la masa $m_2$ se puede escribir como\n",
        "\\begin{align}\n",
        "x_1 &= l_1 \\sin\\theta_1 \\,\\\\\n",
        "y_1 &= -l_1 \\cos\\theta_1 \\,\\\\\n",
        "x_2 &= x_1 + l_2 \\sin \\theta_2 \\,\\\\\n",
        "y_2 &= y_1 - l_2 \\cos \\theta_2 \\,\\\\\n",
        "\\end{align}\n",
        "\n",
        "Derivando con respecto al tiempo obtenemos: \n",
        "\n",
        "\\begin{align}\n",
        "\\dot x_1 &= \\dot\\theta_1 l_1 \\cos \\theta_1\\\\\n",
        "\\dot y_1 &= \\dot \\theta_1 l_1 \\sin \\theta_1\\\\\n",
        "\\dot x_2 &= \\dot x_1 + \\dot\\theta_2 l_2 \\cos \\theta_2\\\\\n",
        "\\dot y_2 &= \\dot y_1 + \\dot\\theta_2 l_2 \\sin \\theta_2\\\\\n",
        "\\end{align}\n",
        "\n",
        "Y derivando una segunda vez:\n",
        "\n",
        "\\begin{align}\n",
        "\\ddot x_1 &= -\\dot \\theta_1^2 l_1 \\sin \\theta_1 + \\ddot\\theta_1 l_1 \\cos \\theta_1\\\\\n",
        "\\ddot y_1 &= \\dot\\theta_1^2 l_1 \\cos \\theta_1 + \\ddot\\theta_1 l_1 \\sin \\theta_1\\\\  \t\n",
        "\\ddot x_2 &= \\ddot x_1 - \\dot\\theta_2^2 l_2 \\sin \\theta_2 + \\ddot\\theta_2 l_2 \\cos \\theta_2 \\\\\n",
        "\\ddot y_2 &= \\ddot y_1 + \\dot\\theta_2^2 l_2 \\cos \\theta_2 + \\ddot\\theta_2 l_2 \\sin \\theta_2\\\\\n",
        "\\end{align}\n",
        "\n",
        "### Fuerzas sobre cada masa\n",
        "\n",
        "Las fuerzas sobre la masa $1$ en cada eje son:\n",
        "\n",
        "\\begin{align}\n",
        "m_1 \\ddot x_1 &= -T_1 \\sin \\theta_1 + T_2 \\sin \\theta_2\\\\ \t\n",
        "m_1 \\ddot y_1 &= T_1 \\cos \\theta_1 - T_2 \\cos \\theta_2 - m_1 g\\\\ \t\n",
        "\\end{align}\n",
        "\n",
        "Las fuerzas sobre la masa $2$ en cada eje son:\n",
        "\n",
        "\\begin{align}\n",
        "m_2 \\ddot x_2 &= -T_2 \\sin \\theta_2\\\\\t                                                \n",
        "m_2 \\ddot y_2 &= T_2 \\cos \\theta_2 - m_2 g\\\\\n",
        "\\end{align}\n"
      ]
    },
    {
      "cell_type": "markdown",
      "metadata": {
        "id": "NO2vQai1nMRr"
      },
      "source": [
        "### Ecuaciones de movimiento\n",
        "\n",
        "A partir de las ecuaciones de segunda derivada de la posición y las ecuaciones de fuerza se obtienen las siguientes ecuaciones de movimiento\n",
        "\n",
        "\\begin{equation}\n",
        "\\ddot\\theta_1 =  \n",
        "\\frac {-g (2m_1+m_2)\\sin\\theta_1 \n",
        "-m_2g \\sin(\\theta_1-2\\theta_2) \n",
        "-2\\sin(\\theta_1 \n",
        "-\\theta_2)m_2(\\dot\\theta_2^2 l_2 \n",
        "+\\dot\\theta_1^2 l_1\\cos(\\theta_1-\\theta_2))} \n",
        "{l_1(2m_1+m_2-m_2\\cos(2\\theta_1 \n",
        "-2\\theta_2))}\n",
        "\\end{equation} \n",
        "\n",
        "\\begin{equation}\n",
        "\\ddot\\theta_2 = \n",
        "\\frac {2 \\sin(\\theta_1 \n",
        "- \\theta_2) (\\dot\\theta_1^2 l_1 (m_1 + m_2) \n",
        "+ g(m_1 + m_2) \\cos \\theta_1 + \\dot\\theta_2^2 l_2 m_2 \\cos(\\theta_1 - \\theta_2)) } {\n",
        "l_2 (2 m_1 + m_2 - m_2 \\cos(2 \\theta_1 - 2 \\theta_2))}\n",
        "\\end{equation}\n",
        "\n",
        "estasecuaciones diferenciales de segundo orden se pueden comvertir en ecuaciones de primer orden nombrando a la velocidad angular $\\dot \\theta = \\omega$:\n",
        "\n",
        "\\begin{equation}\n",
        "\\dot \\theta_1 = \\omega_1\n",
        "\\end{equation}\n",
        "\n",
        "\\begin{equation}\n",
        "\\dot \\theta_2 = \\omega_2\n",
        "\\end{equation}\n",
        "\n",
        "\\begin{equation}\n",
        "\\dot\\omega_1 =  \n",
        "\\frac {-g (2m_1+m_2)\\sin\\theta_1 \n",
        "-m_2g \\sin(\\theta_1-2\\theta_2) \n",
        "-2\\sin(\\theta_1 \n",
        "-\\theta_2)m_2(\\omega_2^2 l_2 \n",
        "+\\omega_1^2 l_1\\cos(\\theta_1-\\theta_2))} \n",
        "{l_1(2m_1+m_2-m_2\\cos(2\\theta_1 \n",
        "-2\\theta_2))}\n",
        "\\end{equation}\n",
        "\n",
        "\\begin{equation}\n",
        "\\dot\\omega_2 = \n",
        "\\frac {2 \\sin(\\theta_1 \n",
        "- \\theta_2) (\\omega_1^2 l_1 (m_1 + m_2) \n",
        "+ g(m_1 + m_2) \\cos \\theta_1 + \\omega_2^2 l_2 m_2 \\cos(\\theta_1 - \\theta_2)) } {\n",
        "l_2 (2 m_1 + m_2 - m_2 \\cos(2 \\theta_1 - 2 \\theta_2))}\n",
        "\\end{equation}"
      ]
    },
    {
      "cell_type": "markdown",
      "metadata": {
        "id": "Pk8xrX8PDQRs"
      },
      "source": [
        "### Parámetros y condiciones iniciales"
      ]
    },
    {
      "cell_type": "code",
      "execution_count": 3,
      "metadata": {
        "id": "w1B_NYrbT_ew"
      },
      "outputs": [],
      "source": [
        "#parámetros\n",
        "g = 9.8 # m/s^2\n",
        "l1 = 1 # m\n",
        "l2 = 1 # m\n",
        "m1 = 10 # kg\n",
        "m2 = 10 # kg\n",
        "\n",
        "tiempo = 20 # s\n",
        "puntos = int(tiempo*200) # numero de puntos a evaluar en la trayectoria\n",
        "\n",
        "# condiciones iniciales\n",
        "theta1 = 130 * np.pi/180 # angulo inicial respecto a la vertical (rad)\n",
        "theta2 = 110 * np.pi/180 # ángulo inicial azimut (rad)\n",
        "omega1 = 0.0 # velocidad angular inicial respecto a la vertical (rad/s)\n",
        "omega2 = 0.0 # velocidad angular inicial azimut (rad/s)\n"
      ]
    },
    {
      "cell_type": "markdown",
      "metadata": {
        "id": "Xl4Ym2Q_DYqq"
      },
      "source": [
        "### Ecuaciones diferenciales"
      ]
    },
    {
      "cell_type": "code",
      "execution_count": 4,
      "metadata": {
        "id": "rngLF-i2XBk2"
      },
      "outputs": [],
      "source": [
        "def numerador_d_omega_dt_1(w, g, l1, l2, m1, m2):\n",
        "  theta1, theta2, omega1, omega2 = w\n",
        "  p1 = -g * (2 * m1 + m2) * np.sin(theta1) - m2 * g * np.sin(theta1 -2 * theta2)\n",
        "  p2 = -2 * np.sin(theta1 - theta2) * m2\n",
        "  p3 = omega2**2 * l2 + omega1**2 * l1 * np.cos(theta1 - theta2)\n",
        "  return p1 + (p2 * p3)\n",
        "\n",
        "def numerador_d_omega_dt_2(w, g, l1, l2, m1, m2):\n",
        "  theta1, theta2, omega1, omega2 = w\n",
        "  p1 = 2 * np.sin(theta1 - theta2)\n",
        "  p2 = omega1**2 * l1 * (m1 + m2) + g * (m1 + m2) * np.cos(theta1)\n",
        "  p3 = omega2**2 * l2 * m2 * np.cos(theta1 - theta2)\n",
        "  return p1 * (p2 + p3)\n",
        "\n",
        "def pendulo_doble(t, w, g, l1, l2, m1, m2):\n",
        "  theta1, theta2, omega1, omega2 = w\n",
        "  d_theta1_dt = omega1\n",
        "  d_theta2_dt = omega2\n",
        "  denomin = 2 * m1 + m2 - m2 * np.cos(2 * theta1 - 2 * theta2)\n",
        "  d_omega1_dt = numerador_d_omega_dt_1(w, g, l1, l2, m1, m2) / (l1 * denomin)\n",
        "  d_omega2_dt = numerador_d_omega_dt_2(w, g, l1, l2, m1, m2) / (l2 * denomin)\n",
        "  return [d_theta1_dt, d_theta2_dt, d_omega1_dt, d_omega2_dt]"
      ]
    },
    {
      "cell_type": "markdown",
      "metadata": {
        "id": "DqJljcLH-6Qe"
      },
      "source": [
        "### Solucionar ecuaciones"
      ]
    },
    {
      "cell_type": "code",
      "execution_count": 5,
      "metadata": {
        "id": "YvLrhv1lFGwT"
      },
      "outputs": [],
      "source": [
        "def solucion_ecuaciones(cond_ini, g, l1, l2, m1, m2, time, puntos):\n",
        "  t = np.linspace(0, time, puntos)\n",
        "  sol = integrate.solve_ivp(pendulo_doble, [0, time], cond_init, \"DOP853\", t, args = args )\n",
        "  return sol"
      ]
    },
    {
      "cell_type": "code",
      "execution_count": null,
      "metadata": {
        "id": "S5ShyEagFG0h"
      },
      "outputs": [],
      "source": []
    },
    {
      "cell_type": "code",
      "execution_count": null,
      "metadata": {
        "id": "PCKJElqsFG3K"
      },
      "outputs": [],
      "source": []
    },
    {
      "cell_type": "code",
      "execution_count": null,
      "metadata": {
        "id": "H7dWYvIPFG6w"
      },
      "outputs": [],
      "source": []
    },
    {
      "cell_type": "code",
      "execution_count": null,
      "metadata": {
        "id": "XN-nA_ZWFG-3"
      },
      "outputs": [],
      "source": []
    },
    {
      "cell_type": "code",
      "execution_count": 6,
      "metadata": {
        "id": "v08XV7Z-79H4"
      },
      "outputs": [],
      "source": [
        "def solucion_ecuaciones(cond_ini, g, l1, l2, m1, m2, time, puntos):\n",
        "  t = np.linspace(0, time, puntos)\n",
        "  args = (g, l1, l2, m1, m2)\n",
        "  sol = integrate.solve_ivp(pendulo_doble,[0,time],cond_ini,'DOP853',t,args=args)\n",
        "  return sol\n",
        "\n",
        "def polares_a_catesianas(soluciones, l1, l2):\n",
        "  x1 = l1 * np.sin(soluciones[0,:])\n",
        "  y1 = - l1 * np.cos(soluciones[0,:])\n",
        "  x2 = x1 + l2 * np.sin(soluciones[1,:])\n",
        "  y2 = y1 - l2 * np.cos(soluciones[1,:])\n",
        "  return np.array([x1, y1, x2, y2])\n",
        "\n",
        "cond_ini = np.array([theta1, theta2, omega1, omega2])\n",
        "sol = solucion_ecuaciones(cond_ini, g, l1, l2, m1, m2, tiempo, puntos)\n",
        "data = polares_a_catesianas(sol.y, l1, l2)"
      ]
    },
    {
      "cell_type": "markdown",
      "metadata": {
        "id": "4VT3OSadD5OB"
      },
      "source": [
        "### Mostrar solución"
      ]
    },
    {
      "cell_type": "code",
      "execution_count": 7,
      "metadata": {
        "colab": {
          "background_save": true
        },
        "id": "_BVc1VQ984x7"
      },
      "outputs": [
        {
          "ename": "IndexError",
          "evalue": "index 1 is out of bounds for axis 0 with size 1",
          "output_type": "error",
          "traceback": [
            "\u001b[0;31m---------------------------------------------------------------------------\u001b[0m",
            "\u001b[0;31mIndexError\u001b[0m                                Traceback (most recent call last)",
            "Cell \u001b[0;32mIn[7], line 41\u001b[0m\n\u001b[1;32m     37\u001b[0m   \u001b[39m#ani.save(name,fps=fps)\u001b[39;00m\n\u001b[1;32m     38\u001b[0m   \u001b[39m#plt.close(fig)\u001b[39;00m\n\u001b[1;32m     40\u001b[0m start_time \u001b[39m=\u001b[39m time\u001b[39m.\u001b[39mtime()\n\u001b[0;32m---> 41\u001b[0m crear_animacion(data[::\u001b[39m4\u001b[39;49m],l1,l2,m1,m2,tiempo,fps,\u001b[39m'\u001b[39;49m\u001b[39mpendulo_doble.gif\u001b[39;49m\u001b[39m'\u001b[39;49m)\n\u001b[1;32m     42\u001b[0m \u001b[39m#print(\"Tiempo usado en crear la animación (s):\",time.time() - start_time)\u001b[39;00m\n",
            "Cell \u001b[0;32mIn[7], line 34\u001b[0m, in \u001b[0;36mcrear_animacion\u001b[0;34m(data, l1, l2, m1, m2, time, fps, name)\u001b[0m\n\u001b[1;32m     32\u001b[0m \u001b[39mif\u001b[39;00m paso\u001b[39m<\u001b[39m\u001b[39m1\u001b[39m: \u001b[39mraise\u001b[39;00m \u001b[39mValueError\u001b[39;00m(\u001b[39m'\u001b[39m\u001b[39mEscoje puntos > \u001b[39m\u001b[39m'\u001b[39m\u001b[39m+\u001b[39m \u001b[39mstr\u001b[39m(N))\n\u001b[1;32m     33\u001b[0m fig, ax \u001b[39m=\u001b[39m ajustar_ejes_coordenados(l1,l2)\n\u001b[0;32m---> 34\u001b[0m elements \u001b[39m=\u001b[39m inicializar_elementos_graficos(data,m1,m2,ax)\n\u001b[1;32m     35\u001b[0m ani \u001b[39m=\u001b[39m animation\u001b[39m.\u001b[39mFuncAnimation(fig,update,N,fargs\u001b[39m=\u001b[39m(data,elements,paso))\n\u001b[1;32m     36\u001b[0m \u001b[39mreturn\u001b[39;00m ani\n",
            "Cell \u001b[0;32mIn[7], line 13\u001b[0m, in \u001b[0;36minicializar_elementos_graficos\u001b[0;34m(d, m1, m2, ax)\u001b[0m\n\u001b[1;32m     12\u001b[0m \u001b[39mdef\u001b[39;00m \u001b[39minicializar_elementos_graficos\u001b[39m(d,m1,m2,ax):\n\u001b[0;32m---> 13\u001b[0m   masa1 \u001b[39m=\u001b[39m ax\u001b[39m.\u001b[39mscatter(d[\u001b[39m0\u001b[39m, :\u001b[39m1\u001b[39m], d[\u001b[39m1\u001b[39;49m, :\u001b[39m1\u001b[39;49m] ,s\u001b[39m=\u001b[39m\u001b[39m80\u001b[39m,c\u001b[39m=\u001b[39m\u001b[39m'\u001b[39m\u001b[39m#ff3030\u001b[39m\u001b[39m'\u001b[39m)\n\u001b[1;32m     14\u001b[0m   masa2 \u001b[39m=\u001b[39m ax\u001b[39m.\u001b[39mscatter(d[\u001b[39m2\u001b[39m, :\u001b[39m1\u001b[39m], d[\u001b[39m3\u001b[39m, :\u001b[39m1\u001b[39m] ,s\u001b[39m=\u001b[39m\u001b[39m80\u001b[39m\u001b[39m*\u001b[39mm2\u001b[39m/\u001b[39mm1,c\u001b[39m=\u001b[39m\u001b[39m'\u001b[39m\u001b[39m#ff3030\u001b[39m\u001b[39m'\u001b[39m)\n\u001b[1;32m     15\u001b[0m   brazo1, \u001b[39m=\u001b[39m ax\u001b[39m.\u001b[39mplot([\u001b[39m0\u001b[39m, d[\u001b[39m0\u001b[39m, \u001b[39m0\u001b[39m]], [\u001b[39m0\u001b[39m, d[\u001b[39m1\u001b[39m, \u001b[39m0\u001b[39m]],c\u001b[39m=\u001b[39m\u001b[39m'\u001b[39m\u001b[39m#ff3030\u001b[39m\u001b[39m'\u001b[39m,lw\u001b[39m=\u001b[39m\u001b[39m3\u001b[39m)\n",
            "\u001b[0;31mIndexError\u001b[0m: index 1 is out of bounds for axis 0 with size 1"
          ]
        },
        {
          "data": {
            "image/png": "[encoded data removed]",
            "text/plain": [
              "<Figure size 525x525 with 1 Axes>"
            ]
          },
          "metadata": {},
          "output_type": "display_data"
        }
      ],
      "source": [
        "fps = 24 # fotogramas por segundo\n",
        "\n",
        "def update(num_frame,d,elements,paso):\n",
        "  j = num_frame * paso\n",
        "  masa1, masa2, brazo1, brazo2, trayectoria2 = elements\n",
        "  trayectoria2.set_data(d[2:4, :j+1])\n",
        "  masa1.set_offsets(d[0:2, j:j+1].T)\n",
        "  masa2.set_offsets(d[2:4, j:j+1].T)\n",
        "  brazo1.set_data([0, d[0, j]], [0, d[1, j]])\n",
        "  brazo2.set_data([d[0, j], d[2, j]], [d[1, j], d[3, j]])\n",
        "\n",
        "def inicializar_elementos_graficos(d,m1,m2,ax):\n",
        "  masa1 = ax.scatter(d[0, :1], d[1, :1] ,s=80,c='#ff3030')\n",
        "  masa2 = ax.scatter(d[2, :1], d[3, :1] ,s=80*m2/m1,c='#ff3030')\n",
        "  brazo1, = ax.plot([0, d[0, 0]], [0, d[1, 0]],c='#ff3030',lw=3)\n",
        "  brazo2, = ax.plot([d[0, 0],d[2, 0]],[d[1, 0],d[3, 0]],c='#ff3030',lw=3)\n",
        "  trayectoria2, = ax.plot(d[2, :1], d[3, :1],c='#34abeb',zorder=-1)\n",
        "  return masa1, masa2, brazo1, brazo2, trayectoria2\n",
        "\n",
        "def ajustar_ejes_coordenados(l1,l2):\n",
        "  fig = plt.figure(figsize = (7,7), dpi = 75)\n",
        "  fig.subplots_adjust(left=0, right=1, bottom=0, top=1) #margen\n",
        "  ax = fig.gca()\n",
        "  plt.tight_layout()\n",
        "  plt.xlim([-l1 - l2, l1 + l2])\n",
        "  plt.ylim([-l1 - l2, l1 + l2])\n",
        "  return fig, ax\n",
        "\n",
        "def crear_animacion(data, l1, l2, m1, m2, time, fps, name):\n",
        "  N = time*fps\n",
        "  paso = int(np.floor(data.shape[1] / N))\n",
        "  if paso<1: raise ValueError('Escoje puntos > '+ str(N))\n",
        "  fig, ax = ajustar_ejes_coordenados(l1,l2)\n",
        "  elements = inicializar_elementos_graficos(data,m1,m2,ax)\n",
        "  ani = animation.FuncAnimation(fig,update,N,fargs=(data,elements,paso))\n",
        "  return ani\n",
        "  #ani.save(name,fps=fps)\n",
        "  #plt.close(fig)\n",
        "\n",
        "start_time = time.time()\n",
        "crear_animacion(data[::4],l1,l2,m1,m2,tiempo,fps,'pendulo_doble.gif')\n",
        "#print(\"Tiempo usado en crear la animación (s):\",time.time() - start_time)"
      ]
    },
    {
      "cell_type": "code",
      "execution_count": null,
      "metadata": {
        "colab": {
          "background_save": true
        },
        "id": "rvNnHee-4zuh",
        "outputId": "4da9833c-ba00-4657-b092-fbb5ae6ea025"
      },
      "outputs": [
        {
          "name": "stdout",
          "output_type": "stream",
          "text": [
            "Tiempo usado en crear la animación (s): 41.99021816253662\n"
          ]
        }
      ],
      "source": [
        "print(\"Tiempo usado en crear la animación (s):\",time.time() - start_time)"
      ]
    },
    {
      "cell_type": "code",
      "execution_count": null,
      "metadata": {
        "colab": {
          "background_save": true
        },
        "id": "-5xqEzWbViZ9",
        "outputId": "161ebd3c-8b73-496d-8693-d206b0a0b9ec"
      },
      "outputs": [
        {
          "ename": "FileNotFoundError",
          "evalue": "ignored",
          "output_type": "error",
          "traceback": [
            "\u001b[0;31m---------------------------------------------------------------------------\u001b[0m",
            "\u001b[0;31mFileNotFoundError\u001b[0m                         Traceback (most recent call last)",
            "\u001b[0;32m<ipython-input-33-13465c537aca>\u001b[0m in \u001b[0;36m<cell line: 6>\u001b[0;34m()\u001b[0m\n\u001b[1;32m      4\u001b[0m \u001b[0;34m\u001b[0m\u001b[0m\n\u001b[1;32m      5\u001b[0m \u001b[0mname\u001b[0m \u001b[0;34m=\u001b[0m \u001b[0;34m'pendulo_doble.gif'\u001b[0m\u001b[0;34m\u001b[0m\u001b[0;34m\u001b[0m\u001b[0m\n\u001b[0;32m----> 6\u001b[0;31m \u001b[0mmp4\u001b[0m \u001b[0;34m=\u001b[0m \u001b[0mopen\u001b[0m\u001b[0;34m(\u001b[0m\u001b[0mname\u001b[0m\u001b[0;34m,\u001b[0m\u001b[0;34m'rb'\u001b[0m\u001b[0;34m)\u001b[0m\u001b[0;34m.\u001b[0m\u001b[0mread\u001b[0m\u001b[0;34m(\u001b[0m\u001b[0;34m)\u001b[0m\u001b[0;34m\u001b[0m\u001b[0;34m\u001b[0m\u001b[0m\n\u001b[0m\u001b[1;32m      7\u001b[0m \u001b[0mdata_url\u001b[0m \u001b[0;34m=\u001b[0m \u001b[0;34m\"data:video/mp4;base64,\"\u001b[0m \u001b[0;34m+\u001b[0m \u001b[0mb64encode\u001b[0m\u001b[0;34m(\u001b[0m\u001b[0mmp4\u001b[0m\u001b[0;34m)\u001b[0m\u001b[0;34m.\u001b[0m\u001b[0mdecode\u001b[0m\u001b[0;34m(\u001b[0m\u001b[0;34m)\u001b[0m\u001b[0;34m\u001b[0m\u001b[0;34m\u001b[0m\u001b[0m\n\u001b[1;32m      8\u001b[0m HTML(\"\"\"\n",
            "\u001b[0;31mFileNotFoundError\u001b[0m: [Errno 2] No such file or directory: 'pendulo_doble.gif'"
          ]
        }
      ],
      "source": [
        "# Mostrar video\n",
        "from IPython.display import HTML\n",
        "from base64 import b64encode\n",
        "\n",
        "name = 'pendulo_doble.gif'\n",
        "mp4 = open(name,'rb').read()\n",
        "data_url = \"data:video/mp4;base64,\" + b64encode(mp4).decode()\n",
        "HTML(\"\"\"\n",
        "<video width=525 controls>\n",
        "      <source src=\"%s\" type=\"video/mp4\">\n",
        "</video>\n",
        "\"\"\" % data_url)"
      ]
    },
    {
      "cell_type": "markdown",
      "metadata": {
        "id": "yqa0vQcbvp8a"
      },
      "source": [
        "**Referencias**\n",
        "\n",
        "Profesores: Diego Alberto Castro, Metodos Computacionales Uniandes"
      ]
    },
    {
      "cell_type": "code",
      "execution_count": null,
      "metadata": {
        "id": "S55kdDM8vrgL"
      },
      "outputs": [],
      "source": []
    }
  ],
  "metadata": {
    "colab": {
      "provenance": []
    },
    "kernelspec": {
      "display_name": "Python 3",
      "language": "python",
      "name": "python3"
    },
    "language_info": {
      "codemirror_mode": {
        "name": "ipython",
        "version": 3
      },
      "file_extension": ".py",
      "mimetype": "text/x-python",
      "name": "python",
      "nbconvert_exporter": "python",
      "pygments_lexer": "ipython3",
      "version": "3.11.5"
    }
  },
  "nbformat": 4,
  "nbformat_minor": 0
}
