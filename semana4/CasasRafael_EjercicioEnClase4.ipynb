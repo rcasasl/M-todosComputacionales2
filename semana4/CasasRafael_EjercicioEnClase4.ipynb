{
  "cells": [
    {
      "cell_type": "markdown",
      "id": "Ca47pvrzRXMy",
      "metadata": {
        "id": "Ca47pvrzRXMy"
      },
      "source": [
        "## Librerias"
      ]
    },
    {
      "cell_type": "code",
      "execution_count": 66,
      "id": "6f64d18c-e6fe-4328-a15d-9344842eabd1",
      "metadata": {
        "id": "6f64d18c-e6fe-4328-a15d-9344842eabd1"
      },
      "outputs": [],
      "source": [
        "import numpy as np\n",
        "import matplotlib.pyplot as plt"
      ]
    },
    {
      "cell_type": "markdown",
      "id": "Qiz2hMpLECsY",
      "metadata": {
        "id": "Qiz2hMpLECsY"
      },
      "source": [
        "## Problema\n",
        "\n",
        "En este problema vamos a estudiar la tranformada discreta de Fourier para el análisis de imagenes. Considere la imagen \"blurredcity.png\", de la cual tomamos solo una sección de la imagen. Para poder leer la imagen este notebook debe estar en la carpeta Datafiles del github del curso."
      ]
    },
    {
      "cell_type": "code",
      "execution_count": 67,
      "id": "7_uMQ2WdPfvP",
      "metadata": {
        "colab": {
          "base_uri": "https://localhost:8080/",
          "height": 392
        },
        "id": "7_uMQ2WdPfvP",
        "outputId": "9afe7893-a186-4a68-8716-2bc4ab5b04fc"
      },
      "outputs": [
        {
          "data": {
            "text/plain": [
              "<matplotlib.image.AxesImage at 0x1668cda60>"
            ]
          },
          "execution_count": 67,
          "metadata": {},
          "output_type": "execute_result"
        },
        {
          "data": {
            "image/png": "[encoded data removed]",
            "text/plain": [
              "<Figure size 640x480 with 1 Axes>"
            ]
          },
          "metadata": {},
          "output_type": "display_data"
        }
      ],
      "source": [
        "# Lectura de la imagen de circulos, no modificar\n",
        "image_city = plt.imread('blurredcity.png').astype(float)\n",
        "circles_image = image_city[300:350, 170:220, 0]\n",
        "\n",
        "plt.imshow(circles_image)"
      ]
    },
    {
      "cell_type": "markdown",
      "id": "JJwyc3HpdNcK",
      "metadata": {
        "id": "JJwyc3HpdNcK"
      },
      "source": [
        "a) Implemente la transformada discreta de Fourier en 2D dada por,\n",
        "\n",
        "$$\n",
        "  F[k, l] = \\frac{1}{\\sqrt{MN}}\\sum_{m=0}^{M-1}\\sum_{n=0}^{N-1}f[m, n]\\exp{\\Big[-i2\\pi\\big(\\frac{km}{M}+ \\frac{ln}{N}\\big)\\Big]}\n",
        "$$\n",
        "\n",
        "La cual recibe una imagen de dimensión (m, n), y retorna una matrix de dimensión (m, n) que corresponde al espacio de frecuencias."
      ]
    },
    {
      "cell_type": "code",
      "execution_count": 68,
      "id": "p01s_X5jQSNQ",
      "metadata": {
        "id": "p01s_X5jQSNQ"
      },
      "outputs": [],
      "source": [
        "def DFT_lenta_2D(image_param):\n",
        "    N = image_param.shape[0]\n",
        "    M = image_param.shape[1]\n",
        "    frequency_matrix = np.zeros((N, M)).astype(complex)\n",
        "    ## tu codigo aqui\n",
        "    for k in range(M):\n",
        "        for l in range(N):\n",
        "            for m in range(M):\n",
        "                for n in range(N):   \n",
        "                    frequency_matrix[k,l] += (1/np.sqrt(M*N))*image_param[m,n]*np.exp(-1j*2*np.pi*((k*m/M)+(l*n/N)))\n",
        "    return frequency_matrix\n",
        "frequency_image = DFT_lenta_2D(circles_image)\n",
        "#print(frequency_image)"
      ]
    },
    {
      "cell_type": "markdown",
      "id": "Rp1cTqzQe4DS",
      "metadata": {
        "id": "Rp1cTqzQe4DS"
      },
      "source": [
        "b) Realice un grafico que muestre la imagen en el espacio de frecuencias."
      ]
    },
    {
      "cell_type": "code",
      "execution_count": 69,
      "id": "mVgc3gx0U0gB",
      "metadata": {
        "id": "mVgc3gx0U0gB"
      },
      "outputs": [
        {
          "data": {
            "text/plain": [
              "<matplotlib.image.AxesImage at 0x166936670>"
            ]
          },
          "execution_count": 69,
          "metadata": {},
          "output_type": "execute_result"
        },
        {
          "data": {
            "image/png": "[encoded data removed]",
            "text/plain": [
              "<Figure size 640x480 with 1 Axes>"
            ]
          },
          "metadata": {},
          "output_type": "display_data"
        }
      ],
      "source": [
        "# su codigo aqui\n",
        "plt.imshow(np.abs(frequency_image))"
      ]
    },
    {
      "cell_type": "markdown",
      "id": "4bJmvlQwfZ6J",
      "metadata": {
        "id": "4bJmvlQwfZ6J"
      },
      "source": [
        "c) A partir de la imagen de frecuencias, implemente la transformada discreta de Fourier inversa dada por,\n",
        "\n",
        "$$\n",
        "  f[m, n] = \\frac{1}{\\sqrt{MN}}\\sum_{k=0}^{M-1}\\sum_{l=0}^{N-1}F[k, l]\\exp{\\Big[i2\\pi\\big(\\frac{km}{M}+ \\frac{ln}{N}\\big)\\Big]}\n",
        "$$\n",
        "\n",
        "La cual transforma una imagen de (m, n) del espacio de frecuencias, a una matrix (m, n) del espacio de pixeles de la imagen."
      ]
    },
    {
      "cell_type": "code",
      "execution_count": 70,
      "id": "R6lKZV7GZWb_",
      "metadata": {
        "colab": {
          "base_uri": "https://localhost:8080/"
        },
        "id": "R6lKZV7GZWb_",
        "outputId": "0c9b21d0-158b-4c7a-fc40-822f84591e15"
      },
      "outputs": [],
      "source": [
        "def DFT_lenta_inversa_2D(image_param):\n",
        "    N = image_param.shape[0]\n",
        "    M = image_param.shape[1]\n",
        "    time_matrix = np.zeros((N, M)).astype(complex)\n",
        "    # su codigo aqui\n",
        "    for m in range(M):\n",
        "        for n in range(N):\n",
        "            for k in range(M):\n",
        "                for l in range(N):\n",
        "                    time_matrix[m,n] += (1/np.sqrt(M*N))*image_param[k,l]*np.exp(1j*2*np.pi*((k*m/M)+(l*n/N)))\n",
        "\n",
        "    return time_matrix\n",
        "\n",
        "new_image = DFT_lenta_inversa_2D(frequency_image)"
      ]
    },
    {
      "cell_type": "markdown",
      "id": "KPWIw5aIgiQk",
      "metadata": {
        "id": "KPWIw5aIgiQk"
      },
      "source": [
        "d) Realice un grafico que muestre la nueva imagen en el espacio de pixeles."
      ]
    },
    {
      "cell_type": "code",
      "execution_count": 71,
      "id": "b6Td5pPoZ5NO",
      "metadata": {
        "id": "b6Td5pPoZ5NO"
      },
      "outputs": [
        {
          "data": {
            "text/plain": [
              "<matplotlib.image.AxesImage at 0x1669b3610>"
            ]
          },
          "execution_count": 71,
          "metadata": {},
          "output_type": "execute_result"
        },
        {
          "data": {
            "image/png": "[encoded data removed]",
            "text/plain": [
              "<Figure size 640x480 with 1 Axes>"
            ]
          },
          "metadata": {},
          "output_type": "display_data"
        }
      ],
      "source": [
        "# su codigo aqui\n",
        "plt.imshow(np.abs(new_image))"
      ]
    },
    {
      "cell_type": "markdown",
      "id": "GbLO2aw6gzoz",
      "metadata": {
        "id": "GbLO2aw6gzoz"
      },
      "source": [
        "e) Qué pasos seguiría usted para limpiar el ruido de una imagen?\n",
        "\n",
        "Su texto aqui\n",
        "\n",
        ".\n",
        "\n",
        ".\n",
        "\n",
        ".\n",
        "\n",
        ".\n",
        "\n",
        "."
      ]
    }
  ],
  "metadata": {
    "colab": {
      "provenance": []
    },
    "kernelspec": {
      "display_name": "Python 3 (ipykernel)",
      "language": "python",
      "name": "python3"
    },
    "language_info": {
      "codemirror_mode": {
        "name": "ipython",
        "version": 3
      },
      "file_extension": ".py",
      "mimetype": "text/x-python",
      "name": "python",
      "nbconvert_exporter": "python",
      "pygments_lexer": "ipython3",
      "version": "3.9.6"
    }
  },
  "nbformat": 4,
  "nbformat_minor": 5
}
