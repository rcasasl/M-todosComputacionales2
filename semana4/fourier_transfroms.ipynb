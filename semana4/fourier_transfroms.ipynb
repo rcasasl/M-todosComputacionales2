{
 "cells": [
  {
   "cell_type": "code",
   "execution_count": null,
   "metadata": {},
   "outputs": [],
   "source": [
    "\n",
    "\n"
   ]
  },
  {
   "cell_type": "code",
   "execution_count": null,
   "metadata": {},
   "outputs": [],
   "source": [
    "def DTF_lenta(x):\n",
    "    N = len(x)\n",
    "    X = np.zeros(len(N), complex)\n",
    "    for k in range(N):\n",
    "        for n in range(N):\n",
    "            X[k] += (1/N)*(x[n])*np.exp(-1j*n*k/N)\n",
    "    return X"
   ]
  }
 ],
 "metadata": {
  "language_info": {
   "name": "python"
  },
  "orig_nbformat": 4
 },
 "nbformat": 4,
 "nbformat_minor": 2
}
