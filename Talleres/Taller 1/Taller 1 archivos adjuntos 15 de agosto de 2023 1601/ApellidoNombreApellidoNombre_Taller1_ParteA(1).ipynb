{
  "cells": [
    {
      "cell_type": "markdown",
      "metadata": {
        "id": "0Z8Dn_z6Mb9b"
      },
      "source": [
        "# Taller 1 Parte A\n",
        "\n",
        "## Métodos Computacionales 2 2023-20\n",
        "\n",
        "Instrucciones: Suba el jupyter notebook **.ipynb** en la actividad de bloque neon. El archivo debe ser nombrado ApellidoNombreApellidoNombre_Taller1_ParteA.ipynb, con su primer Apellido y Nombre de cada integrante de la pareja. **El archivo debe poder correr en el binder del curso**\n",
        "\n",
        "Si un ejercicio demora **más de 10 segundos** en correr se considerará **incorrecto**.\n",
        "\n",
        "No modifique el cuaderno, ni los modos de lectura de los archivos.\n",
        "\n",
        "**Entrega: Viernes 25 de Agosto 11:59 pm**"
      ]
    },
    {
      "cell_type": "markdown",
      "metadata": {
        "id": "TtDSGwXXOzhk"
      },
      "source": [
        "## Problema 1\n",
        "\n",
        "Cree un programa en `C++`, que resuelva numéricamente (no se vale solución análitica) el siguiente problema de tiro parabólico, incluya el código en la función `float parabolic(float H_param, float v_param)` de abajo. Dada la altura $H$ y la velocidad inicial $v$ de una pelota, calcule el ángulo $\\theta$ que se debe lanzar la pelota para que esta llegue lo más lejos posible del punto de lanzamiento en la dirección x cuando esta toca el piso $H = 0$. La altura H y la velocidad $v$ se deben ingresar como entradas del programa en ese orden, primero altura luego velocidad, la salida es un float correspondiente al ángulo. El ángulo debe tener una exactitud de un decimal y debe estar reportado en grados. La altura se debe ingresar en m, la velocidad en m/s y tome la gravedad igual a $9.8m/s^2$.\n",
        "\n",
        "No modifique la función main la cuál va a ser usada para evaluar la validez de la solución."
      ]
    },
    {
      "cell_type": "code",
      "execution_count": 1,
      "metadata": {
        "colab": {
          "base_uri": "https://localhost:8080/"
        },
        "id": "cT1p4cpH8fJo",
        "outputId": "f60f466f-2b33-422b-8d64-f39cfec56f05"
      },
      "outputs": [
        {
          "name": "stdout",
          "output_type": "stream",
          "text": [
            "Writing tiro_parabolico.cpp\n"
          ]
        }
      ],
      "source": [
        "%%writefile tiro_parabolico.cpp\n",
        "\n",
        "#include <iostream>\n",
        "#include <math.h>\n",
        "using namespace std;\n",
        "\n",
        "float parabolic(float H_param, float v_param)\n",
        "{\n",
        "    // su codigo aqui\n",
        "\n",
        "}\n",
        "\n",
        "int main() {\n",
        "    float H_1 = 10.0;\n",
        "    float v_1 = 5.0;\n",
        "    cout << \"The angle of maximum distance in case 1 is: \" << parabolic(H_1, v_1) << endl;\n",
        "\n",
        "    float H_2 = 0.0;\n",
        "    float v_2 = 30.0;\n",
        "    cout << \"The angle of maximum distance in case 2 is: \" << parabolic(H_2, v_2) << endl;\n",
        "\n",
        "    float H_3 = 20.0;\n",
        "    float v_3 = 50.0;\n",
        "    cout << \"The angle of maximum distance in case 3 is: \" << parabolic(H_3, v_3) << endl;\n",
        "\n",
        "    return 0;\n",
        "}"
      ]
    },
    {
      "cell_type": "code",
      "execution_count": 2,
      "metadata": {
        "id": "zfxv80gGOLZR"
      },
      "outputs": [
        {
          "name": "stderr",
          "output_type": "stream",
          "text": [
            "tiro_parabolico.cpp:10:1: warning: non-void function does not return a value [-Wreturn-type]\n",
            "}\n",
            "^\n",
            "1 warning generated.\n"
          ]
        },
        {
          "name": "stdout",
          "output_type": "stream",
          "text": [
            "The angle of maximum distance in case 1 is: 1.4013e-45\n",
            "The angle of maximum distance in case 2 is: 1.4013e-45\n",
            "The angle of maximum distance in case 3 is: 1.4013e-45\n"
          ]
        }
      ],
      "source": [
        "%%script bash\n",
        "\n",
        "g++ tiro_parabolico.cpp -o tiro_parabolico\n",
        "./tiro_parabolico"
      ]
    },
    {
      "cell_type": "markdown",
      "metadata": {
        "id": "mTHJ9Eh0v-Lc"
      },
      "source": [
        "Cómo resolveria el problema de forma análitica? (no se califica)\n",
        "\n",
        ".\n",
        "\n",
        ".\n",
        "\n",
        ".\n",
        "\n",
        "."
      ]
    },
    {
      "cell_type": "markdown",
      "metadata": {
        "id": "xWbz0ud79j38"
      },
      "source": [
        "## Problema 2\n",
        "\n",
        "Cree una función en `C++`, que tenga la siguiente signatura:\n",
        "\n",
        "`void sort(int* ptrA, int* ptrB, int* ptrC)`\n",
        "\n",
        "la cual dados tres punteros de enteros reasigne los valores de `a`, `b`, y `c`, de menor a mayor, es decir, `a` sería el menor, `b` sería el del medio, y `c` sería el mayor. Pueden haber también enteros iguales.\n",
        "\n",
        "No modifique la parte de la función `main()` que realiza los casos de prueba como se encuentra en el archivo."
      ]
    },
    {
      "cell_type": "code",
      "execution_count": 3,
      "metadata": {
        "colab": {
          "base_uri": "https://localhost:8080/"
        },
        "id": "5jChkoGd-UQW",
        "outputId": "07867ace-0bd4-4b4f-8d32-ea2930529aaa"
      },
      "outputs": [
        {
          "name": "stdout",
          "output_type": "stream",
          "text": [
            "Writing sort.cpp\n"
          ]
        }
      ],
      "source": [
        "%%writefile sort.cpp\n",
        "\n",
        "#include <iostream>\n",
        "#include <string>\n",
        "using namespace std;\n",
        "\n",
        "void sort(int* ptrA, int* ptrB, int* ptrC)\n",
        "{\n",
        "    // su codigo aqui\n",
        "\n",
        "\n",
        "}\n",
        "\n",
        "int main() {\n",
        "\n",
        "    int a = 5, b = 3, c = 4;\n",
        "    cout << \"Initial Numbers\" << endl;\n",
        "    cout << a << \" \" << b << \" \" << c << endl;\n",
        "    cout << \"Sorting: \" << endl;\n",
        "    sort(&a, &b, &c);\n",
        "    cout << a << \" \" << b << \" \" << c << endl;\n",
        "\n",
        "    int d = 500, e = 300, f = 150;\n",
        "    cout << \"Initial Numbers\" << endl;\n",
        "    cout << d << \" \" << e << \" \" << f << endl;\n",
        "    cout << \"Sorting: \" << endl;\n",
        "    sort(&d, &e, &f);\n",
        "    cout << d << \" \" << e << \" \" << f << endl;\n",
        "\n",
        "    int g = 156, h = 121, i = 121;\n",
        "    cout << \"Initial Numbers\" << endl;\n",
        "    cout << g << \" \" << h << \" \" << i << endl;\n",
        "    cout << \"Sorting: \" << endl;\n",
        "    sort(&g, &h, &i);\n",
        "    cout << g << \" \" << h << \" \" << i << endl;\n",
        "\n",
        "    int j = 102, k = 105, l = 221;\n",
        "    cout << \"Initial Numbers\" << endl;\n",
        "    cout << j << \" \" << k << \" \" << l << endl;\n",
        "    cout << \"Sorting: \" << endl;\n",
        "    sort(&j, &k, &l);\n",
        "    cout << j << \" \" << k << \" \" << l << endl;\n",
        "\n",
        "    return 0;\n",
        "}\n"
      ]
    },
    {
      "cell_type": "code",
      "execution_count": 4,
      "metadata": {
        "id": "KaOtxtslP-Ti"
      },
      "outputs": [
        {
          "name": "stdout",
          "output_type": "stream",
          "text": [
            "Initial Numbers\n",
            "5 3 4\n",
            "Sorting: \n",
            "5 3 4\n",
            "Initial Numbers\n",
            "500 300 150\n",
            "Sorting: \n",
            "500 300 150\n",
            "Initial Numbers\n",
            "156 121 121\n",
            "Sorting: \n",
            "156 121 121\n",
            "Initial Numbers\n",
            "102 105 221\n",
            "Sorting: \n",
            "102 105 221\n"
          ]
        }
      ],
      "source": [
        "%%script bash\n",
        "\n",
        "g++ sort.cpp -o sort\n",
        "./sort"
      ]
    }
  ],
  "metadata": {
    "colab": {
      "provenance": []
    },
    "kernelspec": {
      "display_name": "Python 3",
      "name": "python3"
    },
    "language_info": {
      "codemirror_mode": {
        "name": "ipython",
        "version": 3
      },
      "file_extension": ".py",
      "mimetype": "text/x-python",
      "name": "python",
      "nbconvert_exporter": "python",
      "pygments_lexer": "ipython3",
      "version": "3.9.6"
    }
  },
  "nbformat": 4,
  "nbformat_minor": 0
}
